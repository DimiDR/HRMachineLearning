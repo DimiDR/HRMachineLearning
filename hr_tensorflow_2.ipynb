{
 "cells": [
  {
   "cell_type": "markdown",
   "metadata": {
    "colab": {
     "base_uri": "https://localhost:8080/",
     "height": 34
    },
    "colab_type": "code",
    "id": "vmUjHQg1gxS_",
    "outputId": "44247543-7233-4916-f877-276ff57db69f"
   },
   "source": [
    "Overall\n",
    "https://towardsdatascience.com/building-an-employee-churn-model-in-python-to-develop-a-strategic-retention-plan-57d5bd882c2d\n",
    "- I saw only one hot encoding and no label encoding. The article stated we need both\n",
    "- No MinMaxScaler, the article stated that there will be better results\n",
    "- There could be a bigger problem with Train data, check my remarks\n",
    "- Some code changes were applied\n",
    "- at the end not everything was understood in regard to NN, as too many new and different functions were used.\n",
    "- The NN accuracy is sometimes very random. Some learnings are getting ~15% accuracy some over ~80%. Looks loke there are two minimums. Maybe check something like gradient descent? Maybe its already used, then other minimum function.\n",
    "\n",
    "Overall:\n",
    "The most interesting regression was the Random Forest. Where you can get a ranking of most influantial things why people leave the company. This was very insigtfull. The NN can only predict how likely will someone will leave. NN is as always a black box algorithm. Maybe here just to think if NN is a good algorithm to have for this problem.\n",
    "Untill now I have the feeling NN is only good if you dont understand anything and there some kind of totaly unstructured data. Here the data is very much structure and understandable.\n"
   ]
  },
  {
   "cell_type": "code",
   "execution_count": 8,
   "metadata": {},
   "outputs": [],
   "source": [
    "# Colab only\n",
    "#from google.colab import drive\n",
    "#drive.mount('/content/gdrive')"
   ]
  },
  {
   "cell_type": "markdown",
   "metadata": {},
   "source": [
    "Packages for Virtual Envirenment"
   ]
  },
  {
   "cell_type": "code",
   "execution_count": 9,
   "metadata": {},
   "outputs": [],
   "source": [
    "# Packages for Virtual Environment\n",
    "#! pip install tensorflow\n",
    "#! pip install pandas\n",
    "#! pip install sklearn\n",
    "#! pip install xlrd"
   ]
  },
  {
   "cell_type": "code",
   "execution_count": 10,
   "metadata": {
    "colab": {},
    "colab_type": "code",
    "id": "T8glMkIvdcLq"
   },
   "outputs": [],
   "source": [
    "from __future__ import absolute_import, division, print_function, unicode_literals\n",
    "\n",
    "import numpy as np\n",
    "import pandas as pd\n",
    "import os \n",
    "import json\n",
    "import codecs\n",
    "\n",
    "try:\n",
    "  # %tensorflow_version only exists in Colab.\n",
    "  %tensorflow_version 2.x\n",
    "except Exception:\n",
    "  pass\n",
    "import tensorflow as tf\n",
    "\n",
    "from tensorflow import feature_column\n",
    "from tensorflow import keras\n",
    "\n",
    "from tensorflow.keras import layers\n",
    "from sklearn.model_selection import train_test_split"
   ]
  },
  {
   "cell_type": "markdown",
   "metadata": {},
   "source": [
    "This should not be neccassary please check next coding"
   ]
  },
  {
   "cell_type": "code",
   "execution_count": 11,
   "metadata": {
    "colab": {},
    "colab_type": "code",
    "id": "lNe_vRtNBYGr"
   },
   "outputs": [],
   "source": [
    "#dtypes={\n",
    "#    'Age':                         'int64',\n",
    "#    'Attrition':                   'category',\n",
    "#    'BusinessTravel':              'category',\n",
    "#    'DailyRate':                   'int64',\n",
    "#    'Department':                  'category',\n",
    "#    'DistanceFromHome':            'int64',\n",
    "#    'Education':                   'int64',\n",
    "#    'EducationField':              'category',\n",
    "#    'EmployeeCount':               'int64',\n",
    "#    'EmployeeNumber':              'int64',\n",
    "#    'EnvironmentSatisfaction':     'int64',\n",
    "#    'Gender':                      'category',\n",
    "#    'HourlyRate':                  'int64',\n",
    "#    'JobInvolvement':              'int64',\n",
    "#    'JobLevel':                    'int64',\n",
    "#    'JobRole':                     'category',\n",
    "#    'JobSatisfaction':             'int64',\n",
    "#    'MaritalStatus':               'category',\n",
    "#    'MonthlyIncome':               'int64',\n",
    "#    'MonthlyRate':                 'int64',\n",
    "#    'NumCompaniesWorked':          'int64',\n",
    "#    'Over18':                      'category',\n",
    "#    'OverTime':                    'category',\n",
    "#    'PercentSalaryHike':           'int64',\n",
    "#    'PerformanceRating':           'int64',\n",
    "#    'RelationshipSatisfaction':    'int64',\n",
    "#    'StandardHours':               'int64',\n",
    "#    'StockOptionLevel':            'int64',\n",
    "#    'TotalWorkingYears':           'int64',\n",
    "#    'TrainingTimesLastYear':       'int64',\n",
    "#    'WorkLifeBalance':             'int64',\n",
    "#    'YearsAtCompany':              'int64',\n",
    "#    'YearsInCurrentRole':          'int64',\n",
    "#    'YearsSinceLastPromotion':     'int64',\n",
    "#    'YearsWithCurrManager':        'int64',}"
   ]
  },
  {
   "cell_type": "code",
   "execution_count": 34,
   "metadata": {
    "colab": {},
    "colab_type": "code",
    "id": "s-dA9N9MdlA1"
   },
   "outputs": [],
   "source": [
    "# For Colab\n",
    "# df = pd.read_excel('/content/gdrive/My Drive/WA_Fn-UseC_-HR-Employee-Attrition.xlsx', sheet_name=0,dtype=dtypes)\n",
    "\n",
    "# Local Data\n",
    "#df = pd.read_excel('WA_Fn-UseC_-HR-Employee-Attrition.xlsx', sheet_name=0,dtype=dtypes)\n",
    "df = pd.read_excel('WA_Fn-UseC_-HR-Employee-Attrition.xlsx', sheet_name=0)"
   ]
  },
  {
   "cell_type": "markdown",
   "metadata": {},
   "source": [
    "Here you can check for non int64 values for hot encoding. easier solution follows."
   ]
  },
  {
   "cell_type": "code",
   "execution_count": 35,
   "metadata": {},
   "outputs": [],
   "source": [
    "#dict = df.dtypes.to_dict()\n",
    "\n",
    "#for key, value in dict.items():\n",
    "#    print(\"{}-{}\".format(key, value))\n"
   ]
  },
  {
   "cell_type": "markdown",
   "metadata": {},
   "source": [
    "get_dummies is not categorical encoding but one hot encoding. Comment is not correct.\n",
    "cont not used and not needed\n",
    "cont.append not needed"
   ]
  },
  {
   "cell_type": "code",
   "execution_count": 36,
   "metadata": {
    "colab": {},
    "colab_type": "code",
    "id": "0CBdZlHBB0yi"
   },
   "outputs": [],
   "source": [
    "## preprocessing : categorical encoding\n",
    "#df['Attrition']=df.Attrition.eq('Yes').mul(1) # change target from Yes/no to 1/0\n",
    "#cont=[]\n",
    "#cat=[]\n",
    "#for key, value in dtypes.items():\n",
    "#    if key!='Attrition':\n",
    "#        if value == \"int64\":\n",
    "#            cont.append(key)\n",
    "#        else:\n",
    "#            cat.append(key)\n",
    "#df = pd.get_dummies(df, columns=cat)\n",
    "#df.head()"
   ]
  },
  {
   "cell_type": "code",
   "execution_count": 37,
   "metadata": {},
   "outputs": [
    {
     "data": {
      "text/html": [
       "<div>\n",
       "<style scoped>\n",
       "    .dataframe tbody tr th:only-of-type {\n",
       "        vertical-align: middle;\n",
       "    }\n",
       "\n",
       "    .dataframe tbody tr th {\n",
       "        vertical-align: top;\n",
       "    }\n",
       "\n",
       "    .dataframe thead th {\n",
       "        text-align: right;\n",
       "    }\n",
       "</style>\n",
       "<table border=\"1\" class=\"dataframe\">\n",
       "  <thead>\n",
       "    <tr style=\"text-align: right;\">\n",
       "      <th></th>\n",
       "      <th>Age</th>\n",
       "      <th>Attrition</th>\n",
       "      <th>DailyRate</th>\n",
       "      <th>DistanceFromHome</th>\n",
       "      <th>Education</th>\n",
       "      <th>EmployeeCount</th>\n",
       "      <th>EmployeeNumber</th>\n",
       "      <th>EnvironmentSatisfaction</th>\n",
       "      <th>HourlyRate</th>\n",
       "      <th>JobInvolvement</th>\n",
       "      <th>...</th>\n",
       "      <th>JobRole_Research Director</th>\n",
       "      <th>JobRole_Research Scientist</th>\n",
       "      <th>JobRole_Sales Executive</th>\n",
       "      <th>JobRole_Sales Representative</th>\n",
       "      <th>MaritalStatus_Divorced</th>\n",
       "      <th>MaritalStatus_Married</th>\n",
       "      <th>MaritalStatus_Single</th>\n",
       "      <th>Over18_Y</th>\n",
       "      <th>OverTime_No</th>\n",
       "      <th>OverTime_Yes</th>\n",
       "    </tr>\n",
       "  </thead>\n",
       "  <tbody>\n",
       "    <tr>\n",
       "      <th>0</th>\n",
       "      <td>41</td>\n",
       "      <td>1</td>\n",
       "      <td>1102</td>\n",
       "      <td>1</td>\n",
       "      <td>2</td>\n",
       "      <td>1</td>\n",
       "      <td>1</td>\n",
       "      <td>2</td>\n",
       "      <td>94</td>\n",
       "      <td>3</td>\n",
       "      <td>...</td>\n",
       "      <td>0</td>\n",
       "      <td>0</td>\n",
       "      <td>1</td>\n",
       "      <td>0</td>\n",
       "      <td>0</td>\n",
       "      <td>0</td>\n",
       "      <td>1</td>\n",
       "      <td>1</td>\n",
       "      <td>0</td>\n",
       "      <td>1</td>\n",
       "    </tr>\n",
       "    <tr>\n",
       "      <th>1</th>\n",
       "      <td>49</td>\n",
       "      <td>0</td>\n",
       "      <td>279</td>\n",
       "      <td>8</td>\n",
       "      <td>1</td>\n",
       "      <td>1</td>\n",
       "      <td>2</td>\n",
       "      <td>3</td>\n",
       "      <td>61</td>\n",
       "      <td>2</td>\n",
       "      <td>...</td>\n",
       "      <td>0</td>\n",
       "      <td>1</td>\n",
       "      <td>0</td>\n",
       "      <td>0</td>\n",
       "      <td>0</td>\n",
       "      <td>1</td>\n",
       "      <td>0</td>\n",
       "      <td>1</td>\n",
       "      <td>1</td>\n",
       "      <td>0</td>\n",
       "    </tr>\n",
       "    <tr>\n",
       "      <th>2</th>\n",
       "      <td>37</td>\n",
       "      <td>1</td>\n",
       "      <td>1373</td>\n",
       "      <td>2</td>\n",
       "      <td>2</td>\n",
       "      <td>1</td>\n",
       "      <td>4</td>\n",
       "      <td>4</td>\n",
       "      <td>92</td>\n",
       "      <td>2</td>\n",
       "      <td>...</td>\n",
       "      <td>0</td>\n",
       "      <td>0</td>\n",
       "      <td>0</td>\n",
       "      <td>0</td>\n",
       "      <td>0</td>\n",
       "      <td>0</td>\n",
       "      <td>1</td>\n",
       "      <td>1</td>\n",
       "      <td>0</td>\n",
       "      <td>1</td>\n",
       "    </tr>\n",
       "    <tr>\n",
       "      <th>3</th>\n",
       "      <td>33</td>\n",
       "      <td>0</td>\n",
       "      <td>1392</td>\n",
       "      <td>3</td>\n",
       "      <td>4</td>\n",
       "      <td>1</td>\n",
       "      <td>5</td>\n",
       "      <td>4</td>\n",
       "      <td>56</td>\n",
       "      <td>3</td>\n",
       "      <td>...</td>\n",
       "      <td>0</td>\n",
       "      <td>1</td>\n",
       "      <td>0</td>\n",
       "      <td>0</td>\n",
       "      <td>0</td>\n",
       "      <td>1</td>\n",
       "      <td>0</td>\n",
       "      <td>1</td>\n",
       "      <td>0</td>\n",
       "      <td>1</td>\n",
       "    </tr>\n",
       "    <tr>\n",
       "      <th>4</th>\n",
       "      <td>27</td>\n",
       "      <td>0</td>\n",
       "      <td>591</td>\n",
       "      <td>2</td>\n",
       "      <td>1</td>\n",
       "      <td>1</td>\n",
       "      <td>7</td>\n",
       "      <td>1</td>\n",
       "      <td>40</td>\n",
       "      <td>3</td>\n",
       "      <td>...</td>\n",
       "      <td>0</td>\n",
       "      <td>0</td>\n",
       "      <td>0</td>\n",
       "      <td>0</td>\n",
       "      <td>0</td>\n",
       "      <td>1</td>\n",
       "      <td>0</td>\n",
       "      <td>1</td>\n",
       "      <td>1</td>\n",
       "      <td>0</td>\n",
       "    </tr>\n",
       "  </tbody>\n",
       "</table>\n",
       "<p>5 rows × 56 columns</p>\n",
       "</div>"
      ],
      "text/plain": [
       "   Age  Attrition  DailyRate  DistanceFromHome  Education  EmployeeCount  \\\n",
       "0   41          1       1102                 1          2              1   \n",
       "1   49          0        279                 8          1              1   \n",
       "2   37          1       1373                 2          2              1   \n",
       "3   33          0       1392                 3          4              1   \n",
       "4   27          0        591                 2          1              1   \n",
       "\n",
       "   EmployeeNumber  EnvironmentSatisfaction  HourlyRate  JobInvolvement  ...  \\\n",
       "0               1                        2          94               3  ...   \n",
       "1               2                        3          61               2  ...   \n",
       "2               4                        4          92               2  ...   \n",
       "3               5                        4          56               3  ...   \n",
       "4               7                        1          40               3  ...   \n",
       "\n",
       "   JobRole_Research Director  JobRole_Research Scientist  \\\n",
       "0                          0                           0   \n",
       "1                          0                           1   \n",
       "2                          0                           0   \n",
       "3                          0                           1   \n",
       "4                          0                           0   \n",
       "\n",
       "   JobRole_Sales Executive  JobRole_Sales Representative  \\\n",
       "0                        1                             0   \n",
       "1                        0                             0   \n",
       "2                        0                             0   \n",
       "3                        0                             0   \n",
       "4                        0                             0   \n",
       "\n",
       "   MaritalStatus_Divorced  MaritalStatus_Married  MaritalStatus_Single  \\\n",
       "0                       0                      0                     1   \n",
       "1                       0                      1                     0   \n",
       "2                       0                      0                     1   \n",
       "3                       0                      1                     0   \n",
       "4                       0                      1                     0   \n",
       "\n",
       "   Over18_Y  OverTime_No  OverTime_Yes  \n",
       "0         1            0             1  \n",
       "1         1            1             0  \n",
       "2         1            0             1  \n",
       "3         1            0             1  \n",
       "4         1            1             0  \n",
       "\n",
       "[5 rows x 56 columns]"
      ]
     },
     "execution_count": 37,
     "metadata": {},
     "output_type": "execute_result"
    }
   ],
   "source": [
    "# preprocessing : categorical encoding\n",
    "df['Attrition']=df.Attrition.eq('Yes').mul(1) # change target from Yes/no to 1/0\n",
    "df = pd.get_dummies(df, columns=df.select_dtypes(['object']).columns)\n",
    "# two rows for all the hot encoding. Isn't it great! :D\n",
    "df.head()"
   ]
  },
  {
   "cell_type": "code",
   "execution_count": 38,
   "metadata": {
    "colab": {
     "base_uri": "https://localhost:8080/",
     "height": 224
    },
    "colab_type": "code",
    "id": "3776_dWVB8g9",
    "outputId": "c7243dcb-b838-4399-c514-662dfb68e819"
   },
   "outputs": [
    {
     "data": {
      "text/html": [
       "<div>\n",
       "<style scoped>\n",
       "    .dataframe tbody tr th:only-of-type {\n",
       "        vertical-align: middle;\n",
       "    }\n",
       "\n",
       "    .dataframe tbody tr th {\n",
       "        vertical-align: top;\n",
       "    }\n",
       "\n",
       "    .dataframe thead th {\n",
       "        text-align: right;\n",
       "    }\n",
       "</style>\n",
       "<table border=\"1\" class=\"dataframe\">\n",
       "  <thead>\n",
       "    <tr style=\"text-align: right;\">\n",
       "      <th></th>\n",
       "      <th>Age</th>\n",
       "      <th>Attrition</th>\n",
       "      <th>DailyRate</th>\n",
       "      <th>DistanceFromHome</th>\n",
       "      <th>Education</th>\n",
       "      <th>EmployeeCount</th>\n",
       "      <th>EmployeeNumber</th>\n",
       "      <th>EnvironmentSatisfaction</th>\n",
       "      <th>HourlyRate</th>\n",
       "      <th>JobInvolvement</th>\n",
       "      <th>...</th>\n",
       "      <th>JobRole_Research_Director</th>\n",
       "      <th>JobRole_Research_Scientist</th>\n",
       "      <th>JobRole_Sales_Executive</th>\n",
       "      <th>JobRole_Sales_Representative</th>\n",
       "      <th>MaritalStatus_Divorced</th>\n",
       "      <th>MaritalStatus_Married</th>\n",
       "      <th>MaritalStatus_Single</th>\n",
       "      <th>Over18_Y</th>\n",
       "      <th>OverTime_No</th>\n",
       "      <th>OverTime_Yes</th>\n",
       "    </tr>\n",
       "  </thead>\n",
       "  <tbody>\n",
       "    <tr>\n",
       "      <th>0</th>\n",
       "      <td>41</td>\n",
       "      <td>1</td>\n",
       "      <td>1102</td>\n",
       "      <td>1</td>\n",
       "      <td>2</td>\n",
       "      <td>1</td>\n",
       "      <td>1</td>\n",
       "      <td>2</td>\n",
       "      <td>94</td>\n",
       "      <td>3</td>\n",
       "      <td>...</td>\n",
       "      <td>0</td>\n",
       "      <td>0</td>\n",
       "      <td>1</td>\n",
       "      <td>0</td>\n",
       "      <td>0</td>\n",
       "      <td>0</td>\n",
       "      <td>1</td>\n",
       "      <td>1</td>\n",
       "      <td>0</td>\n",
       "      <td>1</td>\n",
       "    </tr>\n",
       "    <tr>\n",
       "      <th>1</th>\n",
       "      <td>49</td>\n",
       "      <td>0</td>\n",
       "      <td>279</td>\n",
       "      <td>8</td>\n",
       "      <td>1</td>\n",
       "      <td>1</td>\n",
       "      <td>2</td>\n",
       "      <td>3</td>\n",
       "      <td>61</td>\n",
       "      <td>2</td>\n",
       "      <td>...</td>\n",
       "      <td>0</td>\n",
       "      <td>1</td>\n",
       "      <td>0</td>\n",
       "      <td>0</td>\n",
       "      <td>0</td>\n",
       "      <td>1</td>\n",
       "      <td>0</td>\n",
       "      <td>1</td>\n",
       "      <td>1</td>\n",
       "      <td>0</td>\n",
       "    </tr>\n",
       "    <tr>\n",
       "      <th>2</th>\n",
       "      <td>37</td>\n",
       "      <td>1</td>\n",
       "      <td>1373</td>\n",
       "      <td>2</td>\n",
       "      <td>2</td>\n",
       "      <td>1</td>\n",
       "      <td>4</td>\n",
       "      <td>4</td>\n",
       "      <td>92</td>\n",
       "      <td>2</td>\n",
       "      <td>...</td>\n",
       "      <td>0</td>\n",
       "      <td>0</td>\n",
       "      <td>0</td>\n",
       "      <td>0</td>\n",
       "      <td>0</td>\n",
       "      <td>0</td>\n",
       "      <td>1</td>\n",
       "      <td>1</td>\n",
       "      <td>0</td>\n",
       "      <td>1</td>\n",
       "    </tr>\n",
       "    <tr>\n",
       "      <th>3</th>\n",
       "      <td>33</td>\n",
       "      <td>0</td>\n",
       "      <td>1392</td>\n",
       "      <td>3</td>\n",
       "      <td>4</td>\n",
       "      <td>1</td>\n",
       "      <td>5</td>\n",
       "      <td>4</td>\n",
       "      <td>56</td>\n",
       "      <td>3</td>\n",
       "      <td>...</td>\n",
       "      <td>0</td>\n",
       "      <td>1</td>\n",
       "      <td>0</td>\n",
       "      <td>0</td>\n",
       "      <td>0</td>\n",
       "      <td>1</td>\n",
       "      <td>0</td>\n",
       "      <td>1</td>\n",
       "      <td>0</td>\n",
       "      <td>1</td>\n",
       "    </tr>\n",
       "    <tr>\n",
       "      <th>4</th>\n",
       "      <td>27</td>\n",
       "      <td>0</td>\n",
       "      <td>591</td>\n",
       "      <td>2</td>\n",
       "      <td>1</td>\n",
       "      <td>1</td>\n",
       "      <td>7</td>\n",
       "      <td>1</td>\n",
       "      <td>40</td>\n",
       "      <td>3</td>\n",
       "      <td>...</td>\n",
       "      <td>0</td>\n",
       "      <td>0</td>\n",
       "      <td>0</td>\n",
       "      <td>0</td>\n",
       "      <td>0</td>\n",
       "      <td>1</td>\n",
       "      <td>0</td>\n",
       "      <td>1</td>\n",
       "      <td>1</td>\n",
       "      <td>0</td>\n",
       "    </tr>\n",
       "  </tbody>\n",
       "</table>\n",
       "<p>5 rows × 56 columns</p>\n",
       "</div>"
      ],
      "text/plain": [
       "   Age  Attrition  DailyRate  DistanceFromHome  Education  EmployeeCount  \\\n",
       "0   41          1       1102                 1          2              1   \n",
       "1   49          0        279                 8          1              1   \n",
       "2   37          1       1373                 2          2              1   \n",
       "3   33          0       1392                 3          4              1   \n",
       "4   27          0        591                 2          1              1   \n",
       "\n",
       "   EmployeeNumber  EnvironmentSatisfaction  HourlyRate  JobInvolvement  ...  \\\n",
       "0               1                        2          94               3  ...   \n",
       "1               2                        3          61               2  ...   \n",
       "2               4                        4          92               2  ...   \n",
       "3               5                        4          56               3  ...   \n",
       "4               7                        1          40               3  ...   \n",
       "\n",
       "   JobRole_Research_Director  JobRole_Research_Scientist  \\\n",
       "0                          0                           0   \n",
       "1                          0                           1   \n",
       "2                          0                           0   \n",
       "3                          0                           1   \n",
       "4                          0                           0   \n",
       "\n",
       "   JobRole_Sales_Executive  JobRole_Sales_Representative  \\\n",
       "0                        1                             0   \n",
       "1                        0                             0   \n",
       "2                        0                             0   \n",
       "3                        0                             0   \n",
       "4                        0                             0   \n",
       "\n",
       "   MaritalStatus_Divorced  MaritalStatus_Married  MaritalStatus_Single  \\\n",
       "0                       0                      0                     1   \n",
       "1                       0                      1                     0   \n",
       "2                       0                      0                     1   \n",
       "3                       0                      1                     0   \n",
       "4                       0                      1                     0   \n",
       "\n",
       "   Over18_Y  OverTime_No  OverTime_Yes  \n",
       "0         1            0             1  \n",
       "1         1            1             0  \n",
       "2         1            0             1  \n",
       "3         1            0             1  \n",
       "4         1            1             0  \n",
       "\n",
       "[5 rows x 56 columns]"
      ]
     },
     "execution_count": 38,
     "metadata": {},
     "output_type": "execute_result"
    }
   ],
   "source": [
    "rename = [\"Department_Human Resources\",\n",
    "          \"Department_Research & Development\" ,\n",
    "\"EducationField_Human Resources\" ,\n",
    "\"EducationField_Life Sciences\" ,\n",
    "\"EducationField_Technical Degree\", \n",
    "\"JobRole_Healthcare Representative\" ,\n",
    "\"JobRole_Human Resources\" ,\n",
    "\"JobRole_Laboratory Technician\",\n",
    "\"JobRole_Manufacturing Director\",\n",
    "\"JobRole_Research Director\",\n",
    "\"JobRole_Research Scientist\",\n",
    "\"JobRole_Sales Executive\",\n",
    "\"JobRole_Sales Representative\"]\n",
    "\n",
    "for string in rename:\n",
    "  df.rename(columns={ string : string.replace(\" \", \"_\")}, inplace = True)\n",
    "\n",
    "df.rename(columns={ \"Department_Research_&_Development\": \"Department_ResearchDevelopment\"}, inplace = True)\n",
    "df.rename(columns={ \"BusinessTravel_Non-Travel\": \"BusinessTravel_NonTravel\"}, inplace = True)\n",
    "df.head()\n",
    "\n",
    "\n",
    "\n",
    "\n",
    "\n",
    "\n"
   ]
  },
  {
   "cell_type": "markdown",
   "metadata": {},
   "source": [
    "output takes too much space"
   ]
  },
  {
   "cell_type": "code",
   "execution_count": 39,
   "metadata": {
    "colab": {
     "base_uri": "https://localhost:8080/",
     "height": 986
    },
    "colab_type": "code",
    "id": "zOk2Jb7ci2ON",
    "outputId": "93d6dd5e-121c-4f8d-c306-87eeeffd1d24"
   },
   "outputs": [],
   "source": [
    "#df.dtypes"
   ]
  },
  {
   "cell_type": "markdown",
   "metadata": {},
   "source": [
    "Moved this coding"
   ]
  },
  {
   "cell_type": "code",
   "execution_count": 40,
   "metadata": {
    "colab": {
     "base_uri": "https://localhost:8080/",
     "height": 54
    },
    "colab_type": "code",
    "id": "yEnyczzcaNYm",
    "outputId": "47cd40c1-8d90-46b7-c7c6-2342f22cab61"
   },
   "outputs": [],
   "source": [
    "#cont = []\n",
    "#cat = []\n",
    "\n",
    "#for items in df.dtypes.iteritems(): \n",
    "#   if items[0]!='Attrition':\n",
    "#    cont.append(items[0])\n",
    "\n",
    "#print(cont)\n",
    "\n"
   ]
  },
  {
   "cell_type": "markdown",
   "metadata": {},
   "source": [
    "train will be overwritten. This is strange. I am not very fammiliar with validation dataset. So not sure what to think about this."
   ]
  },
  {
   "cell_type": "code",
   "execution_count": 41,
   "metadata": {
    "colab": {
     "base_uri": "https://localhost:8080/",
     "height": 68
    },
    "colab_type": "code",
    "id": "8z6m9ko1dpfR",
    "outputId": "30eb6578-c50f-414b-be2b-7c701bd8b40f"
   },
   "outputs": [
    {
     "name": "stdout",
     "output_type": "stream",
     "text": [
      "1176 train examples\n",
      "236 validation examples\n",
      "294 test examples\n"
     ]
    }
   ],
   "source": [
    "train, test = train_test_split(df, test_size=0.2)\n",
    "train1, val = train_test_split(train, test_size=0.2)\n",
    "print(len(train), 'train examples')\n",
    "print(len(val), 'validation examples')\n",
    "print(len(test), 'test examples')"
   ]
  },
  {
   "cell_type": "markdown",
   "metadata": {},
   "source": [
    "dataframe = dataframe.copy() - is this correct? looks like it does not do anything"
   ]
  },
  {
   "cell_type": "code",
   "execution_count": 42,
   "metadata": {
    "colab": {},
    "colab_type": "code",
    "id": "pyj2dcT8dsRz"
   },
   "outputs": [],
   "source": [
    "\n",
    "# A utility method to create a tf.data dataset from a Pandas Dataframe\n",
    "def df_to_dataset(dataframe, shuffle=True, batch_size=32):\n",
    "  dataframe = dataframe.copy()\n",
    "  labels = dataframe.pop('Attrition')\n",
    "  ds = tf.data.Dataset.from_tensor_slices((dict(dataframe), labels))\n",
    "  if shuffle:\n",
    "    ds = ds.shuffle(buffer_size=len(dataframe))\n",
    "  ds = ds.batch(batch_size)\n",
    "  return ds"
   ]
  },
  {
   "cell_type": "code",
   "execution_count": 43,
   "metadata": {
    "colab": {},
    "colab_type": "code",
    "id": "tVVgiJB1e8T9"
   },
   "outputs": [],
   "source": [
    "batch_size = 5 # A small batch sized is used for demonstration purposes\n",
    "train_ds = df_to_dataset(train, batch_size=batch_size)\n",
    "val_ds = df_to_dataset(val, shuffle=False, batch_size=batch_size)\n",
    "test_ds = df_to_dataset(test, shuffle=False, batch_size=batch_size)"
   ]
  },
  {
   "cell_type": "code",
   "execution_count": 44,
   "metadata": {
    "colab": {
     "base_uri": "https://localhost:8080/",
     "height": 88
    },
    "colab_type": "code",
    "id": "lM0wVgjoe4gW",
    "outputId": "2e817d35-81cc-42fb-a42c-53a17d4cc886"
   },
   "outputs": [
    {
     "name": "stdout",
     "output_type": "stream",
     "text": [
      "Every feature: ['Age', 'DailyRate', 'DistanceFromHome', 'Education', 'EmployeeCount', 'EmployeeNumber', 'EnvironmentSatisfaction', 'HourlyRate', 'JobInvolvement', 'JobLevel', 'JobSatisfaction', 'MonthlyIncome', 'MonthlyRate', 'NumCompaniesWorked', 'PercentSalaryHike', 'PerformanceRating', 'RelationshipSatisfaction', 'StandardHours', 'StockOptionLevel', 'TotalWorkingYears', 'TrainingTimesLastYear', 'WorkLifeBalance', 'YearsAtCompany', 'YearsInCurrentRole', 'YearsSinceLastPromotion', 'YearsWithCurrManager', 'BusinessTravel_NonTravel', 'BusinessTravel_Travel_Frequently', 'BusinessTravel_Travel_Rarely', 'Department_Human_Resources', 'Department_ResearchDevelopment', 'Department_Sales', 'EducationField_Human_Resources', 'EducationField_Life_Sciences', 'EducationField_Marketing', 'EducationField_Medical', 'EducationField_Other', 'EducationField_Technical_Degree', 'Gender_Female', 'Gender_Male', 'JobRole_Healthcare_Representative', 'JobRole_Human_Resources', 'JobRole_Laboratory_Technician', 'JobRole_Manager', 'JobRole_Manufacturing_Director', 'JobRole_Research_Director', 'JobRole_Research_Scientist', 'JobRole_Sales_Executive', 'JobRole_Sales_Representative', 'MaritalStatus_Divorced', 'MaritalStatus_Married', 'MaritalStatus_Single', 'Over18_Y', 'OverTime_No', 'OverTime_Yes']\n",
      "A batch of Education: tf.Tensor([4 3 4 2 3], shape=(5,), dtype=int32)\n",
      "A batch of Attrication: tf.Tensor([1 1 0 0 0], shape=(5,), dtype=int32)\n"
     ]
    }
   ],
   "source": [
    "for feature_batch, label_batch in train_ds.take(1):\n",
    "  print('Every feature:', list(feature_batch.keys()))\n",
    "  print('A batch of Education:', feature_batch['Education'])\n",
    "  print('A batch of Attrication:', label_batch )"
   ]
  },
  {
   "cell_type": "code",
   "execution_count": 45,
   "metadata": {
    "colab": {},
    "colab_type": "code",
    "id": "DE3n0OPSe1aA"
   },
   "outputs": [],
   "source": [
    "# We will use this batch to demonstrate several types of feature columns\n",
    "example_batch = next(iter(train_ds))[0]"
   ]
  },
  {
   "cell_type": "code",
   "execution_count": 46,
   "metadata": {
    "colab": {},
    "colab_type": "code",
    "id": "AA400Wx2exLh"
   },
   "outputs": [],
   "source": [
    "\n",
    "# A utility method to create a feature column\n",
    "# and to transform a batch of data\n",
    "def demo(feature_column):\n",
    "  feature_layer = layers.DenseFeatures(feature_column)\n",
    "  print(feature_layer(example_batch).numpy())"
   ]
  },
  {
   "cell_type": "code",
   "execution_count": 47,
   "metadata": {
    "colab": {
     "base_uri": "https://localhost:8080/",
     "height": 102
    },
    "colab_type": "code",
    "id": "rGBfCrH7etlR",
    "outputId": "59c4ba22-75d0-4dd7-d2ae-45c747c86de1"
   },
   "outputs": [
    {
     "name": "stdout",
     "output_type": "stream",
     "text": [
      "[[4.]\n",
      " [4.]\n",
      " [1.]\n",
      " [3.]\n",
      " [3.]]\n"
     ]
    }
   ],
   "source": [
    "daysOpen = feature_column.numeric_column(\"Education\")\n",
    "demo(daysOpen)"
   ]
  },
  {
   "cell_type": "markdown",
   "metadata": {},
   "source": [
    "some coding moved here. I think there may be only one loop here."
   ]
  },
  {
   "cell_type": "code",
   "execution_count": 48,
   "metadata": {
    "colab": {},
    "colab_type": "code",
    "id": "hQaB8Qchdu-N"
   },
   "outputs": [],
   "source": [
    "feature_columns = []\n",
    "cont = []\n",
    "cat = []\n",
    "\n",
    "for items in df.dtypes.iteritems(): \n",
    "   if items[0]!='Attrition':\n",
    "    cont.append(items[0])\n",
    "\n",
    "#dep_var = 'Attrition'\n",
    "\n",
    "# numeric cols\n",
    "for header in cont:\n",
    "  if header != 'Attrition':\n",
    "    feature_columns.append(feature_column.numeric_column(header))"
   ]
  },
  {
   "cell_type": "code",
   "execution_count": 49,
   "metadata": {
    "colab": {
     "base_uri": "https://localhost:8080/",
     "height": 54
    },
    "colab_type": "code",
    "id": "-Vq3bTzzt-15",
    "outputId": "87503aaf-a108-4d55-f09e-2a6722d0dc35"
   },
   "outputs": [
    {
     "name": "stdout",
     "output_type": "stream",
     "text": [
      "[NumericColumn(key='Age', shape=(1,), default_value=None, dtype=tf.float32, normalizer_fn=None), NumericColumn(key='DailyRate', shape=(1,), default_value=None, dtype=tf.float32, normalizer_fn=None), NumericColumn(key='DistanceFromHome', shape=(1,), default_value=None, dtype=tf.float32, normalizer_fn=None), NumericColumn(key='Education', shape=(1,), default_value=None, dtype=tf.float32, normalizer_fn=None), NumericColumn(key='EmployeeCount', shape=(1,), default_value=None, dtype=tf.float32, normalizer_fn=None), NumericColumn(key='EmployeeNumber', shape=(1,), default_value=None, dtype=tf.float32, normalizer_fn=None), NumericColumn(key='EnvironmentSatisfaction', shape=(1,), default_value=None, dtype=tf.float32, normalizer_fn=None), NumericColumn(key='HourlyRate', shape=(1,), default_value=None, dtype=tf.float32, normalizer_fn=None), NumericColumn(key='JobInvolvement', shape=(1,), default_value=None, dtype=tf.float32, normalizer_fn=None), NumericColumn(key='JobLevel', shape=(1,), default_value=None, dtype=tf.float32, normalizer_fn=None), NumericColumn(key='JobSatisfaction', shape=(1,), default_value=None, dtype=tf.float32, normalizer_fn=None), NumericColumn(key='MonthlyIncome', shape=(1,), default_value=None, dtype=tf.float32, normalizer_fn=None), NumericColumn(key='MonthlyRate', shape=(1,), default_value=None, dtype=tf.float32, normalizer_fn=None), NumericColumn(key='NumCompaniesWorked', shape=(1,), default_value=None, dtype=tf.float32, normalizer_fn=None), NumericColumn(key='PercentSalaryHike', shape=(1,), default_value=None, dtype=tf.float32, normalizer_fn=None), NumericColumn(key='PerformanceRating', shape=(1,), default_value=None, dtype=tf.float32, normalizer_fn=None), NumericColumn(key='RelationshipSatisfaction', shape=(1,), default_value=None, dtype=tf.float32, normalizer_fn=None), NumericColumn(key='StandardHours', shape=(1,), default_value=None, dtype=tf.float32, normalizer_fn=None), NumericColumn(key='StockOptionLevel', shape=(1,), default_value=None, dtype=tf.float32, normalizer_fn=None), NumericColumn(key='TotalWorkingYears', shape=(1,), default_value=None, dtype=tf.float32, normalizer_fn=None), NumericColumn(key='TrainingTimesLastYear', shape=(1,), default_value=None, dtype=tf.float32, normalizer_fn=None), NumericColumn(key='WorkLifeBalance', shape=(1,), default_value=None, dtype=tf.float32, normalizer_fn=None), NumericColumn(key='YearsAtCompany', shape=(1,), default_value=None, dtype=tf.float32, normalizer_fn=None), NumericColumn(key='YearsInCurrentRole', shape=(1,), default_value=None, dtype=tf.float32, normalizer_fn=None), NumericColumn(key='YearsSinceLastPromotion', shape=(1,), default_value=None, dtype=tf.float32, normalizer_fn=None), NumericColumn(key='YearsWithCurrManager', shape=(1,), default_value=None, dtype=tf.float32, normalizer_fn=None), NumericColumn(key='BusinessTravel_NonTravel', shape=(1,), default_value=None, dtype=tf.float32, normalizer_fn=None), NumericColumn(key='BusinessTravel_Travel_Frequently', shape=(1,), default_value=None, dtype=tf.float32, normalizer_fn=None), NumericColumn(key='BusinessTravel_Travel_Rarely', shape=(1,), default_value=None, dtype=tf.float32, normalizer_fn=None), NumericColumn(key='Department_Human_Resources', shape=(1,), default_value=None, dtype=tf.float32, normalizer_fn=None), NumericColumn(key='Department_ResearchDevelopment', shape=(1,), default_value=None, dtype=tf.float32, normalizer_fn=None), NumericColumn(key='Department_Sales', shape=(1,), default_value=None, dtype=tf.float32, normalizer_fn=None), NumericColumn(key='EducationField_Human_Resources', shape=(1,), default_value=None, dtype=tf.float32, normalizer_fn=None), NumericColumn(key='EducationField_Life_Sciences', shape=(1,), default_value=None, dtype=tf.float32, normalizer_fn=None), NumericColumn(key='EducationField_Marketing', shape=(1,), default_value=None, dtype=tf.float32, normalizer_fn=None), NumericColumn(key='EducationField_Medical', shape=(1,), default_value=None, dtype=tf.float32, normalizer_fn=None), NumericColumn(key='EducationField_Other', shape=(1,), default_value=None, dtype=tf.float32, normalizer_fn=None), NumericColumn(key='EducationField_Technical_Degree', shape=(1,), default_value=None, dtype=tf.float32, normalizer_fn=None), NumericColumn(key='Gender_Female', shape=(1,), default_value=None, dtype=tf.float32, normalizer_fn=None), NumericColumn(key='Gender_Male', shape=(1,), default_value=None, dtype=tf.float32, normalizer_fn=None), NumericColumn(key='JobRole_Healthcare_Representative', shape=(1,), default_value=None, dtype=tf.float32, normalizer_fn=None), NumericColumn(key='JobRole_Human_Resources', shape=(1,), default_value=None, dtype=tf.float32, normalizer_fn=None), NumericColumn(key='JobRole_Laboratory_Technician', shape=(1,), default_value=None, dtype=tf.float32, normalizer_fn=None), NumericColumn(key='JobRole_Manager', shape=(1,), default_value=None, dtype=tf.float32, normalizer_fn=None), NumericColumn(key='JobRole_Manufacturing_Director', shape=(1,), default_value=None, dtype=tf.float32, normalizer_fn=None), NumericColumn(key='JobRole_Research_Director', shape=(1,), default_value=None, dtype=tf.float32, normalizer_fn=None), NumericColumn(key='JobRole_Research_Scientist', shape=(1,), default_value=None, dtype=tf.float32, normalizer_fn=None), NumericColumn(key='JobRole_Sales_Executive', shape=(1,), default_value=None, dtype=tf.float32, normalizer_fn=None), NumericColumn(key='JobRole_Sales_Representative', shape=(1,), default_value=None, dtype=tf.float32, normalizer_fn=None), NumericColumn(key='MaritalStatus_Divorced', shape=(1,), default_value=None, dtype=tf.float32, normalizer_fn=None), NumericColumn(key='MaritalStatus_Married', shape=(1,), default_value=None, dtype=tf.float32, normalizer_fn=None), NumericColumn(key='MaritalStatus_Single', shape=(1,), default_value=None, dtype=tf.float32, normalizer_fn=None), NumericColumn(key='Over18_Y', shape=(1,), default_value=None, dtype=tf.float32, normalizer_fn=None), NumericColumn(key='OverTime_No', shape=(1,), default_value=None, dtype=tf.float32, normalizer_fn=None), NumericColumn(key='OverTime_Yes', shape=(1,), default_value=None, dtype=tf.float32, normalizer_fn=None)]\n"
     ]
    }
   ],
   "source": [
    "print(feature_columns)"
   ]
  },
  {
   "cell_type": "code",
   "execution_count": 50,
   "metadata": {
    "colab": {},
    "colab_type": "code",
    "id": "CIIvd2ZFd7vQ"
   },
   "outputs": [],
   "source": [
    "feature_layer = tf.keras.layers.DenseFeatures(feature_columns)"
   ]
  },
  {
   "cell_type": "code",
   "execution_count": 51,
   "metadata": {
    "colab": {},
    "colab_type": "code",
    "id": "4jQsOe40gFdO"
   },
   "outputs": [],
   "source": [
    "batch_size = 32\n",
    "train_ds = df_to_dataset(train, batch_size=batch_size)\n",
    "val_ds = df_to_dataset(val, shuffle=False, batch_size=batch_size)\n",
    "test_ds = df_to_dataset(test, shuffle=False, batch_size=batch_size)"
   ]
  },
  {
   "cell_type": "code",
   "execution_count": 52,
   "metadata": {
    "colab": {
     "base_uri": "https://localhost:8080/",
     "height": 88
    },
    "colab_type": "code",
    "id": "ACvfTZ8pytwq",
    "outputId": "700ddb3a-7275-4cae-df5e-bf8ca4c969ce"
   },
   "outputs": [
    {
     "name": "stdout",
     "output_type": "stream",
     "text": [
      "Every feature: ['Age', 'DailyRate', 'DistanceFromHome', 'Education', 'EmployeeCount', 'EmployeeNumber', 'EnvironmentSatisfaction', 'HourlyRate', 'JobInvolvement', 'JobLevel', 'JobSatisfaction', 'MonthlyIncome', 'MonthlyRate', 'NumCompaniesWorked', 'PercentSalaryHike', 'PerformanceRating', 'RelationshipSatisfaction', 'StandardHours', 'StockOptionLevel', 'TotalWorkingYears', 'TrainingTimesLastYear', 'WorkLifeBalance', 'YearsAtCompany', 'YearsInCurrentRole', 'YearsSinceLastPromotion', 'YearsWithCurrManager', 'BusinessTravel_NonTravel', 'BusinessTravel_Travel_Frequently', 'BusinessTravel_Travel_Rarely', 'Department_Human_Resources', 'Department_ResearchDevelopment', 'Department_Sales', 'EducationField_Human_Resources', 'EducationField_Life_Sciences', 'EducationField_Marketing', 'EducationField_Medical', 'EducationField_Other', 'EducationField_Technical_Degree', 'Gender_Female', 'Gender_Male', 'JobRole_Healthcare_Representative', 'JobRole_Human_Resources', 'JobRole_Laboratory_Technician', 'JobRole_Manager', 'JobRole_Manufacturing_Director', 'JobRole_Research_Director', 'JobRole_Research_Scientist', 'JobRole_Sales_Executive', 'JobRole_Sales_Representative', 'MaritalStatus_Divorced', 'MaritalStatus_Married', 'MaritalStatus_Single', 'Over18_Y', 'OverTime_No', 'OverTime_Yes']\n",
      "A batch of Education: tf.Tensor([3 4 2 3 3 4 5 2 3 2 3 4 2 3 4 3 4 2 3 3 2 4 4 4 3 3 2 3 2 4 2 2], shape=(32,), dtype=int32)\n",
      "A batch of Attration: tf.Tensor([1 0 1 0 0 1 0 0 0 0 1 0 0 0 0 0 0 0 1 0 0 0 0 0 1 0 0 0 0 0 0 0], shape=(32,), dtype=int32)\n"
     ]
    }
   ],
   "source": [
    "for feature_batch, label_batch in train_ds.take(1):\n",
    "  print('Every feature:', list(feature_batch.keys()))\n",
    "  print('A batch of Education:', feature_batch['Education'])\n",
    "  print('A batch of Attration:', label_batch )"
   ]
  },
  {
   "cell_type": "markdown",
   "metadata": {},
   "source": [
    "Very strange that the loss function is not moving at all. Its immidiately reaches the local minimum??"
   ]
  },
  {
   "cell_type": "code",
   "execution_count": 77,
   "metadata": {
    "colab": {
     "base_uri": "https://localhost:8080/",
     "height": 204
    },
    "colab_type": "code",
    "id": "7cBvkEH0gIER",
    "outputId": "2722bb0a-514c-40af-c08d-b31347f8b64e"
   },
   "outputs": [
    {
     "name": "stdout",
     "output_type": "stream",
     "text": [
      "Epoch 1/5\n",
      "37/37 [==============================] - 2s 58ms/step - loss: 2.8661 - accuracy: 0.8129 - val_loss: 0.0000e+00 - val_accuracy: 0.0000e+00\n",
      "Epoch 2/5\n",
      "37/37 [==============================] - 2s 52ms/step - loss: 2.4764 - accuracy: 0.8410 - val_loss: 2.8319 - val_accuracy: 0.8220\n",
      "Epoch 3/5\n",
      "37/37 [==============================] - 2s 53ms/step - loss: 2.4634 - accuracy: 0.8410 - val_loss: 2.8319 - val_accuracy: 0.8220\n",
      "Epoch 4/5\n",
      "37/37 [==============================] - 2s 51ms/step - loss: 2.4504 - accuracy: 0.8410 - val_loss: 2.8319 - val_accuracy: 0.8220\n",
      "Epoch 5/5\n",
      "37/37 [==============================] - 2s 53ms/step - loss: 2.4764 - accuracy: 0.8410 - val_loss: 2.8319 - val_accuracy: 0.8220\n"
     ]
    },
    {
     "data": {
      "text/plain": [
       "<tensorflow.python.keras.callbacks.History at 0x225eb4b15c8>"
      ]
     },
     "execution_count": 77,
     "metadata": {},
     "output_type": "execute_result"
    }
   ],
   "source": [
    "model = tf.keras.Sequential([\n",
    "  feature_layer,\n",
    "  layers.Dense(24, activation='relu'),\n",
    "  #layers.Dense(64, activation='relu'),\n",
    "  layers.Dense(1, activation='sigmoid')\n",
    "])\n",
    "\n",
    "model.compile(\n",
    "              # optimizer=keras.optimizers.Adam(lr=1e-3),\n",
    "              optimizer='sgd',\n",
    "              loss=keras.losses.BinaryCrossentropy(),\n",
    "              metrics=['accuracy'],\n",
    "              run_eagerly=True)\n",
    "\n",
    "model.fit(train_ds,\n",
    "          validation_data=val_ds,\n",
    "          epochs=5)"
   ]
  },
  {
   "cell_type": "code",
   "execution_count": 64,
   "metadata": {
    "colab": {
     "base_uri": "https://localhost:8080/",
     "height": 51
    },
    "colab_type": "code",
    "id": "MQh_cdk8gZwE",
    "outputId": "048b85a7-74d0-4403-c570-078837dbca3c"
   },
   "outputs": [
    {
     "name": "stdout",
     "output_type": "stream",
     "text": [
      "10/10 [==============================] - 0s 49ms/step - loss: 12.3145 - accuracy: 0.1701\n",
      "Accuracy 0.17006803\n"
     ]
    }
   ],
   "source": [
    "\n",
    "loss, accuracy = model.evaluate(test_ds)\n",
    "print(\"Accuracy\", accuracy)"
   ]
  },
  {
   "cell_type": "code",
   "execution_count": null,
   "metadata": {
    "colab": {
     "base_uri": "https://localhost:8080/",
     "height": 54
    },
    "colab_type": "code",
    "id": "YAFaOeqey36-",
    "outputId": "cb83be26-3b09-4f62-c21b-d0f7d79c36b7"
   },
   "outputs": [],
   "source": [
    "i = 0\n",
    "df2 =  df.drop(['Attrition'], axis=1)\n",
    "x = np.array(df2.iloc[i])\n",
    "x = x.reshape(-1,1)\n",
    "y = x.tolist()\n",
    "print(y)\n",
    "file_path = \"/content/gdrive/My Drive/hrtest.json\"\n",
    "#json.dump(y, codecs.open(file_path, 'w', encoding='utf-8'), separators=(',', ':'), sort_keys=True, indent=4)"
   ]
  },
  {
   "cell_type": "markdown",
   "metadata": {},
   "source": [
    "how can you predict y? You can only predict X. I think y means something else here. Need to stick to f(X)=y ~ model(X)=y"
   ]
  },
  {
   "cell_type": "code",
   "execution_count": null,
   "metadata": {
    "colab": {
     "base_uri": "https://localhost:8080/",
     "height": 34
    },
    "colab_type": "code",
    "id": "h2rXB1IOsaeO",
    "outputId": "1cc4ad88-c116-4ece-9674-66371872b90c"
   },
   "outputs": [],
   "source": [
    "#model.predict(y)"
   ]
  },
  {
   "cell_type": "code",
   "execution_count": null,
   "metadata": {
    "colab": {
     "base_uri": "https://localhost:8080/",
     "height": 306
    },
    "colab_type": "code",
    "id": "jjCu8hR6qIPC",
    "outputId": "df415709-7277-41e9-819d-5a358c4105bb"
   },
   "outputs": [],
   "source": [
    "model.summary()\n",
    "#model.save('/content/gdrive/My Drive/tabular/saved_model') "
   ]
  },
  {
   "cell_type": "markdown",
   "metadata": {},
   "source": [
    "Nothing needef after this. Some server settings etc. And again same definitions from above."
   ]
  },
  {
   "cell_type": "code",
   "execution_count": null,
   "metadata": {
    "colab": {
     "base_uri": "https://localhost:8080/",
     "height": 1000
    },
    "colab_type": "code",
    "id": "1TombKjBD4zM",
    "outputId": "08019ba7-0039-4f5e-9d9b-83e86ca7748b"
   },
   "outputs": [],
   "source": [
    "!saved_model_cli show --dir '/content/gdrive/My Drive/tabular/saved_model/1' --all"
   ]
  },
  {
   "cell_type": "code",
   "execution_count": null,
   "metadata": {
    "colab": {},
    "colab_type": "code",
    "id": "JWqnVFZhEYWf"
   },
   "outputs": [],
   "source": [
    "!echo \"deb http://storage.googleapis.com/tensorflow-serving-apt stable tensorflow-model-server tensorflow-model-server-universal\" | tee /etc/apt/sources.list.d/tensorflow-serving.list && \\\n",
    "curl https://storage.googleapis.com/tensorflow-serving-apt/tensorflow-serving.release.pub.gpg | apt-key add -\n",
    "!apt update"
   ]
  },
  {
   "cell_type": "code",
   "execution_count": null,
   "metadata": {
    "colab": {},
    "colab_type": "code",
    "id": "XK4sn0GNEfrk"
   },
   "outputs": [],
   "source": [
    "!apt-get install tensorflow-model-server\n"
   ]
  },
  {
   "cell_type": "code",
   "execution_count": null,
   "metadata": {
    "colab": {},
    "colab_type": "code",
    "id": "kK2a4w2OEpCV"
   },
   "outputs": [],
   "source": [
    "os.environ[\"MODEL_DIR\"] = '/content/gdrive/My Drive/tabular/saved_model/'\n"
   ]
  },
  {
   "cell_type": "code",
   "execution_count": null,
   "metadata": {
    "colab": {
     "base_uri": "https://localhost:8080/",
     "height": 34
    },
    "colab_type": "code",
    "id": "7f5Jh68oE38H",
    "outputId": "0f6d6c40-da31-4944-a0e9-332259e471e8"
   },
   "outputs": [],
   "source": [
    "%%bash --bg \n",
    "nohup tensorflow_model_server \\\n",
    "  --rest_api_port=8501 \\\n",
    "  --model_name=saved_model \\\n",
    "  --model_base_path=\"${MODEL_DIR}\" >server.log 2>&1"
   ]
  },
  {
   "cell_type": "code",
   "execution_count": null,
   "metadata": {
    "colab": {
     "base_uri": "https://localhost:8080/",
     "height": 187
    },
    "colab_type": "code",
    "id": "XdPGxZpaE7nn",
    "outputId": "7c0c2f03-80a8-4cf0-ee06-0d2467a5c1b6"
   },
   "outputs": [],
   "source": [
    "!tail server.log\n"
   ]
  },
  {
   "cell_type": "code",
   "execution_count": null,
   "metadata": {
    "colab": {
     "base_uri": "https://localhost:8080/",
     "height": 309
    },
    "colab_type": "code",
    "id": "2vtzgM8c9WbE",
    "outputId": "6ab2ea18-0762-4e86-94f1-d3676073d2be"
   },
   "outputs": [],
   "source": [
    "URL = '/content/gdrive/My Drive/WA_Fn-UseC_-HR-Employee-Attrition.xlsx'\n",
    "dataframe = pd.read_excel('/content/gdrive/My Drive/WA_Fn-UseC_-HR-Employee-Attrition.xlsx', sheet_name=0,dtype=dtypes)\n",
    "dataframe['Attrition']=dataframe.Attrition.eq('Yes').mul(1) # change target from Yes/no to 1/0\n",
    "dataframe.head()"
   ]
  },
  {
   "cell_type": "code",
   "execution_count": null,
   "metadata": {
    "colab": {},
    "colab_type": "code",
    "id": "bAQDwI1HBKwW"
   },
   "outputs": [],
   "source": [
    "cont=[]\n",
    "cat=[]\n",
    "for key, value in dtypes.items():\n",
    "    if key!='Attrition':\n",
    "        if value == \"int64\":\n",
    "            cont.append(key)\n",
    "        else:\n",
    "            cat.append(key)"
   ]
  },
  {
   "cell_type": "code",
   "execution_count": null,
   "metadata": {
    "colab": {
     "base_uri": "https://localhost:8080/",
     "height": 34
    },
    "colab_type": "code",
    "id": "kGdKdzoABP-k",
    "outputId": "4fae73ca-f278-4889-c3cf-4ccdc51e4bc9"
   },
   "outputs": [],
   "source": [
    "print(cat)"
   ]
  },
  {
   "cell_type": "code",
   "execution_count": null,
   "metadata": {
    "colab": {
     "base_uri": "https://localhost:8080/",
     "height": 51
    },
    "colab_type": "code",
    "id": "A4fjeycy-4ya",
    "outputId": "f17f8ed1-c121-4a3c-a03d-5d3475f0d648"
   },
   "outputs": [],
   "source": [
    "dataframe['BusinessTravel'].unique()"
   ]
  },
  {
   "cell_type": "code",
   "execution_count": null,
   "metadata": {
    "colab": {
     "base_uri": "https://localhost:8080/",
     "height": 68
    },
    "colab_type": "code",
    "id": "HbT_DsOE93SG",
    "outputId": "ab545b27-ed36-479c-c4f4-a9ffc6320ed7"
   },
   "outputs": [],
   "source": [
    "train, test = train_test_split(dataframe, test_size=0.2)\n",
    "train, val = train_test_split(train, test_size=0.2)\n",
    "print(len(train), 'train examples')\n",
    "print(len(val), 'validation examples')\n",
    "print(len(test), 'test examples')"
   ]
  },
  {
   "cell_type": "code",
   "execution_count": null,
   "metadata": {
    "colab": {},
    "colab_type": "code",
    "id": "85_GnI3V9-ut"
   },
   "outputs": [],
   "source": [
    "# A utility method to create a tf.data dataset from a Pandas Dataframe\n",
    "def df_to_dataset(dataframe, shuffle=True, batch_size=32):\n",
    "  dataframe = dataframe.copy()\n",
    "  labels = dataframe.pop('Attrition')\n",
    "  ds = tf.data.Dataset.from_tensor_slices((dict(dataframe), labels))\n",
    "  if shuffle:\n",
    "    ds = ds.shuffle(buffer_size=len(dataframe))\n",
    "  ds = ds.batch(batch_size)\n",
    "  return ds"
   ]
  },
  {
   "cell_type": "code",
   "execution_count": null,
   "metadata": {
    "colab": {},
    "colab_type": "code",
    "id": "-eiARreHDfYd"
   },
   "outputs": [],
   "source": [
    "example_batch = next(iter(train_ds))[0]\n"
   ]
  },
  {
   "cell_type": "code",
   "execution_count": null,
   "metadata": {
    "colab": {},
    "colab_type": "code",
    "id": "C86lMkRNDXoa"
   },
   "outputs": [],
   "source": [
    "# A utility method to create a feature column\n",
    "# and to transform a batch of data\n",
    "def demo(feature_column):\n",
    "  feature_layer = layers.DenseFeatures(feature_column)\n",
    "  print(feature_layer(example_batch).numpy())"
   ]
  }
 ],
 "metadata": {
  "colab": {
   "collapsed_sections": [],
   "name": "hr_tensorflow.ipynb",
   "provenance": []
  },
  "kernelspec": {
   "display_name": "Python 3",
   "language": "python",
   "name": "python3"
  },
  "language_info": {
   "codemirror_mode": {
    "name": "ipython",
    "version": 3
   },
   "file_extension": ".py",
   "mimetype": "text/x-python",
   "name": "python",
   "nbconvert_exporter": "python",
   "pygments_lexer": "ipython3",
   "version": "3.7.5"
  }
 },
 "nbformat": 4,
 "nbformat_minor": 1
}
