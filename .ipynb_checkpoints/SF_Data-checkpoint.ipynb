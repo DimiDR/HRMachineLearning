{
 "cells": [
  {
   "cell_type": "code",
   "execution_count": 1,
   "metadata": {},
   "outputs": [],
   "source": [
    "from sklearn.ensemble import RandomForestClassifier\n",
    "from sklearn.model_selection import GridSearchCV\n",
    "from sklearn.model_selection import train_test_split\n",
    "import pandas as pd\n",
    "import numpy as np\n",
    "import pickle\n",
    "\n",
    "import matplotlib.pyplot as plt"
   ]
  },
  {
   "cell_type": "code",
   "execution_count": 2,
   "metadata": {},
   "outputs": [
    {
     "name": "stdout",
     "output_type": "stream",
     "text": [
      "Shape of dataframe is: (14718, 16)\n"
     ]
    },
    {
     "data": {
      "text/html": [
       "<div>\n",
       "<style scoped>\n",
       "    .dataframe tbody tr th:only-of-type {\n",
       "        vertical-align: middle;\n",
       "    }\n",
       "\n",
       "    .dataframe tbody tr th {\n",
       "        vertical-align: top;\n",
       "    }\n",
       "\n",
       "    .dataframe thead th {\n",
       "        text-align: right;\n",
       "    }\n",
       "</style>\n",
       "<table border=\"1\" class=\"dataframe\">\n",
       "  <thead>\n",
       "    <tr style=\"text-align: right;\">\n",
       "      <th></th>\n",
       "      <th>lastName</th>\n",
       "      <th>firstName</th>\n",
       "      <th>status</th>\n",
       "      <th>username</th>\n",
       "      <th>user-id</th>\n",
       "      <th>currency-code</th>\n",
       "      <th>paycompvalue</th>\n",
       "      <th>start-date</th>\n",
       "      <th>end-date</th>\n",
       "      <th>pay-component</th>\n",
       "      <th>frequency</th>\n",
       "      <th>date-of-birth</th>\n",
       "      <th>start-date.1</th>\n",
       "      <th>end-date.1</th>\n",
       "      <th>end-date.2</th>\n",
       "      <th>fte</th>\n",
       "    </tr>\n",
       "  </thead>\n",
       "  <tbody>\n",
       "    <tr>\n",
       "      <th>0</th>\n",
       "      <td>Trombley</td>\n",
       "      <td>Francois</td>\n",
       "      <td>Active User</td>\n",
       "      <td>ftrombley</td>\n",
       "      <td>1</td>\n",
       "      <td>EUR</td>\n",
       "      <td>6500.00</td>\n",
       "      <td>1/30/2010</td>\n",
       "      <td>12/31/2013</td>\n",
       "      <td>BASESAL_FR</td>\n",
       "      <td>MON</td>\n",
       "      <td>6/5/1978</td>\n",
       "      <td>1/30/2010</td>\n",
       "      <td>4/12/2017</td>\n",
       "      <td>NaN</td>\n",
       "      <td>0.88</td>\n",
       "    </tr>\n",
       "    <tr>\n",
       "      <th>1</th>\n",
       "      <td>Trombley</td>\n",
       "      <td>Francois</td>\n",
       "      <td>Active User</td>\n",
       "      <td>ftrombley</td>\n",
       "      <td>1</td>\n",
       "      <td>EUR</td>\n",
       "      <td>6763.26</td>\n",
       "      <td>1/1/2017</td>\n",
       "      <td>12/31/9999</td>\n",
       "      <td>BASESAL_FR</td>\n",
       "      <td>MON</td>\n",
       "      <td>6/5/1978</td>\n",
       "      <td>1/30/2010</td>\n",
       "      <td>4/12/2017</td>\n",
       "      <td>NaN</td>\n",
       "      <td>0.88</td>\n",
       "    </tr>\n",
       "    <tr>\n",
       "      <th>2</th>\n",
       "      <td>Trombley</td>\n",
       "      <td>Francois</td>\n",
       "      <td>Active User</td>\n",
       "      <td>ftrombley</td>\n",
       "      <td>1</td>\n",
       "      <td>EUR</td>\n",
       "      <td>6696.30</td>\n",
       "      <td>1/1/2016</td>\n",
       "      <td>12/31/2016</td>\n",
       "      <td>BASESAL_FR</td>\n",
       "      <td>MON</td>\n",
       "      <td>6/5/1978</td>\n",
       "      <td>1/30/2010</td>\n",
       "      <td>4/12/2017</td>\n",
       "      <td>NaN</td>\n",
       "      <td>0.88</td>\n",
       "    </tr>\n",
       "    <tr>\n",
       "      <th>3</th>\n",
       "      <td>Trombley</td>\n",
       "      <td>Francois</td>\n",
       "      <td>Active User</td>\n",
       "      <td>ftrombley</td>\n",
       "      <td>1</td>\n",
       "      <td>EUR</td>\n",
       "      <td>6630.00</td>\n",
       "      <td>1/1/2014</td>\n",
       "      <td>12/31/2015</td>\n",
       "      <td>BASESAL_FR</td>\n",
       "      <td>MON</td>\n",
       "      <td>6/5/1978</td>\n",
       "      <td>1/30/2010</td>\n",
       "      <td>4/12/2017</td>\n",
       "      <td>NaN</td>\n",
       "      <td>0.88</td>\n",
       "    </tr>\n",
       "    <tr>\n",
       "      <th>4</th>\n",
       "      <td>Trombley</td>\n",
       "      <td>Francois</td>\n",
       "      <td>Active User</td>\n",
       "      <td>ftrombley</td>\n",
       "      <td>1</td>\n",
       "      <td>EUR</td>\n",
       "      <td>6500.00</td>\n",
       "      <td>1/30/2010</td>\n",
       "      <td>12/31/2013</td>\n",
       "      <td>BASESAL_FR</td>\n",
       "      <td>MON</td>\n",
       "      <td>6/5/1978</td>\n",
       "      <td>1/30/2010</td>\n",
       "      <td>4/12/2017</td>\n",
       "      <td>NaN</td>\n",
       "      <td>1.00</td>\n",
       "    </tr>\n",
       "  </tbody>\n",
       "</table>\n",
       "</div>"
      ],
      "text/plain": [
       "   lastName firstName       status   username user-id currency-code  \\\n",
       "0  Trombley  Francois  Active User  ftrombley       1           EUR   \n",
       "1  Trombley  Francois  Active User  ftrombley       1           EUR   \n",
       "2  Trombley  Francois  Active User  ftrombley       1           EUR   \n",
       "3  Trombley  Francois  Active User  ftrombley       1           EUR   \n",
       "4  Trombley  Francois  Active User  ftrombley       1           EUR   \n",
       "\n",
       "   paycompvalue start-date    end-date pay-component frequency date-of-birth  \\\n",
       "0       6500.00  1/30/2010  12/31/2013    BASESAL_FR       MON      6/5/1978   \n",
       "1       6763.26   1/1/2017  12/31/9999    BASESAL_FR       MON      6/5/1978   \n",
       "2       6696.30   1/1/2016  12/31/2016    BASESAL_FR       MON      6/5/1978   \n",
       "3       6630.00   1/1/2014  12/31/2015    BASESAL_FR       MON      6/5/1978   \n",
       "4       6500.00  1/30/2010  12/31/2013    BASESAL_FR       MON      6/5/1978   \n",
       "\n",
       "  start-date.1 end-date.1 end-date.2   fte  \n",
       "0    1/30/2010  4/12/2017        NaN  0.88  \n",
       "1    1/30/2010  4/12/2017        NaN  0.88  \n",
       "2    1/30/2010  4/12/2017        NaN  0.88  \n",
       "3    1/30/2010  4/12/2017        NaN  0.88  \n",
       "4    1/30/2010  4/12/2017        NaN  1.00  "
      ]
     },
     "execution_count": 2,
     "metadata": {},
     "output_type": "execute_result"
    }
   ],
   "source": [
    "# making data frame from csv file \n",
    "df_sourcefile = pd.read_csv(\"Data/report_Atos_EmployeeData.csv\")\n",
    "\n",
    "print(\"Shape of dataframe is: {}\".format(df_sourcefile.shape))\n",
    "df_sourcefile.head()"
   ]
  },
  {
   "cell_type": "markdown",
   "metadata": {},
   "source": [
    "# Data Cleaning"
   ]
  },
  {
   "cell_type": "code",
   "execution_count": 3,
   "metadata": {},
   "outputs": [
    {
     "data": {
      "text/html": [
       "<div>\n",
       "<style scoped>\n",
       "    .dataframe tbody tr th:only-of-type {\n",
       "        vertical-align: middle;\n",
       "    }\n",
       "\n",
       "    .dataframe tbody tr th {\n",
       "        vertical-align: top;\n",
       "    }\n",
       "\n",
       "    .dataframe thead th {\n",
       "        text-align: right;\n",
       "    }\n",
       "</style>\n",
       "<table border=\"1\" class=\"dataframe\">\n",
       "  <thead>\n",
       "    <tr style=\"text-align: right;\">\n",
       "      <th></th>\n",
       "      <th>lastName</th>\n",
       "      <th>firstName</th>\n",
       "      <th>status</th>\n",
       "      <th>username</th>\n",
       "      <th>user-id</th>\n",
       "      <th>currency-code</th>\n",
       "      <th>paycompvalue</th>\n",
       "      <th>start-date</th>\n",
       "      <th>end-date</th>\n",
       "      <th>pay-component</th>\n",
       "      <th>frequency</th>\n",
       "      <th>date-of-birth</th>\n",
       "      <th>start-date.1</th>\n",
       "      <th>end-date.1</th>\n",
       "      <th>end-date.2</th>\n",
       "      <th>fte</th>\n",
       "    </tr>\n",
       "  </thead>\n",
       "  <tbody>\n",
       "    <tr>\n",
       "      <th>0</th>\n",
       "      <td>Trombley</td>\n",
       "      <td>Francois</td>\n",
       "      <td>Active User</td>\n",
       "      <td>ftrombley</td>\n",
       "      <td>1</td>\n",
       "      <td>EUR</td>\n",
       "      <td>6500.00</td>\n",
       "      <td>1/30/2010</td>\n",
       "      <td>12/31/2013</td>\n",
       "      <td>BASESAL_FR</td>\n",
       "      <td>MON</td>\n",
       "      <td>6/5/1978</td>\n",
       "      <td>1/30/2010</td>\n",
       "      <td>4/12/2017</td>\n",
       "      <td>NaN</td>\n",
       "      <td>0.88</td>\n",
       "    </tr>\n",
       "    <tr>\n",
       "      <th>1</th>\n",
       "      <td>Trombley</td>\n",
       "      <td>Francois</td>\n",
       "      <td>Active User</td>\n",
       "      <td>ftrombley</td>\n",
       "      <td>1</td>\n",
       "      <td>EUR</td>\n",
       "      <td>6763.26</td>\n",
       "      <td>1/1/2017</td>\n",
       "      <td>12/31/9999</td>\n",
       "      <td>BASESAL_FR</td>\n",
       "      <td>MON</td>\n",
       "      <td>6/5/1978</td>\n",
       "      <td>1/30/2010</td>\n",
       "      <td>4/12/2017</td>\n",
       "      <td>NaN</td>\n",
       "      <td>0.88</td>\n",
       "    </tr>\n",
       "    <tr>\n",
       "      <th>2</th>\n",
       "      <td>Trombley</td>\n",
       "      <td>Francois</td>\n",
       "      <td>Active User</td>\n",
       "      <td>ftrombley</td>\n",
       "      <td>1</td>\n",
       "      <td>EUR</td>\n",
       "      <td>6696.30</td>\n",
       "      <td>1/1/2016</td>\n",
       "      <td>12/31/2016</td>\n",
       "      <td>BASESAL_FR</td>\n",
       "      <td>MON</td>\n",
       "      <td>6/5/1978</td>\n",
       "      <td>1/30/2010</td>\n",
       "      <td>4/12/2017</td>\n",
       "      <td>NaN</td>\n",
       "      <td>0.88</td>\n",
       "    </tr>\n",
       "    <tr>\n",
       "      <th>3</th>\n",
       "      <td>Trombley</td>\n",
       "      <td>Francois</td>\n",
       "      <td>Active User</td>\n",
       "      <td>ftrombley</td>\n",
       "      <td>1</td>\n",
       "      <td>EUR</td>\n",
       "      <td>6630.00</td>\n",
       "      <td>1/1/2014</td>\n",
       "      <td>12/31/2015</td>\n",
       "      <td>BASESAL_FR</td>\n",
       "      <td>MON</td>\n",
       "      <td>6/5/1978</td>\n",
       "      <td>1/30/2010</td>\n",
       "      <td>4/12/2017</td>\n",
       "      <td>NaN</td>\n",
       "      <td>0.88</td>\n",
       "    </tr>\n",
       "    <tr>\n",
       "      <th>4</th>\n",
       "      <td>Trombley</td>\n",
       "      <td>Francois</td>\n",
       "      <td>Active User</td>\n",
       "      <td>ftrombley</td>\n",
       "      <td>1</td>\n",
       "      <td>EUR</td>\n",
       "      <td>6500.00</td>\n",
       "      <td>1/30/2010</td>\n",
       "      <td>12/31/2013</td>\n",
       "      <td>BASESAL_FR</td>\n",
       "      <td>MON</td>\n",
       "      <td>6/5/1978</td>\n",
       "      <td>1/30/2010</td>\n",
       "      <td>4/12/2017</td>\n",
       "      <td>NaN</td>\n",
       "      <td>1.00</td>\n",
       "    </tr>\n",
       "  </tbody>\n",
       "</table>\n",
       "</div>"
      ],
      "text/plain": [
       "   lastName firstName       status   username user-id currency-code  \\\n",
       "0  Trombley  Francois  Active User  ftrombley       1           EUR   \n",
       "1  Trombley  Francois  Active User  ftrombley       1           EUR   \n",
       "2  Trombley  Francois  Active User  ftrombley       1           EUR   \n",
       "3  Trombley  Francois  Active User  ftrombley       1           EUR   \n",
       "4  Trombley  Francois  Active User  ftrombley       1           EUR   \n",
       "\n",
       "   paycompvalue start-date    end-date pay-component frequency date-of-birth  \\\n",
       "0       6500.00  1/30/2010  12/31/2013    BASESAL_FR       MON      6/5/1978   \n",
       "1       6763.26   1/1/2017  12/31/9999    BASESAL_FR       MON      6/5/1978   \n",
       "2       6696.30   1/1/2016  12/31/2016    BASESAL_FR       MON      6/5/1978   \n",
       "3       6630.00   1/1/2014  12/31/2015    BASESAL_FR       MON      6/5/1978   \n",
       "4       6500.00  1/30/2010  12/31/2013    BASESAL_FR       MON      6/5/1978   \n",
       "\n",
       "  start-date.1 end-date.1 end-date.2   fte  \n",
       "0    1/30/2010  4/12/2017        NaN  0.88  \n",
       "1    1/30/2010  4/12/2017        NaN  0.88  \n",
       "2    1/30/2010  4/12/2017        NaN  0.88  \n",
       "3    1/30/2010  4/12/2017        NaN  0.88  \n",
       "4    1/30/2010  4/12/2017        NaN  1.00  "
      ]
     },
     "execution_count": 3,
     "metadata": {},
     "output_type": "execute_result"
    }
   ],
   "source": [
    "df = df_sourcefile.copy()\n",
    "df.head()"
   ]
  },
  {
   "cell_type": "code",
   "execution_count": 4,
   "metadata": {},
   "outputs": [
    {
     "data": {
      "text/html": [
       "<div>\n",
       "<style scoped>\n",
       "    .dataframe tbody tr th:only-of-type {\n",
       "        vertical-align: middle;\n",
       "    }\n",
       "\n",
       "    .dataframe tbody tr th {\n",
       "        vertical-align: top;\n",
       "    }\n",
       "\n",
       "    .dataframe thead th {\n",
       "        text-align: right;\n",
       "    }\n",
       "</style>\n",
       "<table border=\"1\" class=\"dataframe\">\n",
       "  <thead>\n",
       "    <tr style=\"text-align: right;\">\n",
       "      <th></th>\n",
       "      <th>lastName</th>\n",
       "      <th>firstName</th>\n",
       "      <th>status</th>\n",
       "      <th>username</th>\n",
       "      <th>user-id</th>\n",
       "      <th>currency-code</th>\n",
       "      <th>paycompvalue</th>\n",
       "      <th>start-date</th>\n",
       "      <th>data-date</th>\n",
       "      <th>pay-component</th>\n",
       "      <th>frequency</th>\n",
       "      <th>date-of-birth</th>\n",
       "      <th>hire-date</th>\n",
       "      <th>end-date.1</th>\n",
       "      <th>termination-date</th>\n",
       "      <th>fte</th>\n",
       "    </tr>\n",
       "  </thead>\n",
       "  <tbody>\n",
       "    <tr>\n",
       "      <th>0</th>\n",
       "      <td>Trombley</td>\n",
       "      <td>Francois</td>\n",
       "      <td>Active User</td>\n",
       "      <td>ftrombley</td>\n",
       "      <td>1</td>\n",
       "      <td>EUR</td>\n",
       "      <td>6500.00</td>\n",
       "      <td>1/30/2010</td>\n",
       "      <td>12/31/2013</td>\n",
       "      <td>BASESAL_FR</td>\n",
       "      <td>MON</td>\n",
       "      <td>6/5/1978</td>\n",
       "      <td>1/30/2010</td>\n",
       "      <td>4/12/2017</td>\n",
       "      <td>NaN</td>\n",
       "      <td>0.88</td>\n",
       "    </tr>\n",
       "    <tr>\n",
       "      <th>1</th>\n",
       "      <td>Trombley</td>\n",
       "      <td>Francois</td>\n",
       "      <td>Active User</td>\n",
       "      <td>ftrombley</td>\n",
       "      <td>1</td>\n",
       "      <td>EUR</td>\n",
       "      <td>6763.26</td>\n",
       "      <td>1/1/2017</td>\n",
       "      <td>12/31/9999</td>\n",
       "      <td>BASESAL_FR</td>\n",
       "      <td>MON</td>\n",
       "      <td>6/5/1978</td>\n",
       "      <td>1/30/2010</td>\n",
       "      <td>4/12/2017</td>\n",
       "      <td>NaN</td>\n",
       "      <td>0.88</td>\n",
       "    </tr>\n",
       "    <tr>\n",
       "      <th>2</th>\n",
       "      <td>Trombley</td>\n",
       "      <td>Francois</td>\n",
       "      <td>Active User</td>\n",
       "      <td>ftrombley</td>\n",
       "      <td>1</td>\n",
       "      <td>EUR</td>\n",
       "      <td>6696.30</td>\n",
       "      <td>1/1/2016</td>\n",
       "      <td>12/31/2016</td>\n",
       "      <td>BASESAL_FR</td>\n",
       "      <td>MON</td>\n",
       "      <td>6/5/1978</td>\n",
       "      <td>1/30/2010</td>\n",
       "      <td>4/12/2017</td>\n",
       "      <td>NaN</td>\n",
       "      <td>0.88</td>\n",
       "    </tr>\n",
       "    <tr>\n",
       "      <th>3</th>\n",
       "      <td>Trombley</td>\n",
       "      <td>Francois</td>\n",
       "      <td>Active User</td>\n",
       "      <td>ftrombley</td>\n",
       "      <td>1</td>\n",
       "      <td>EUR</td>\n",
       "      <td>6630.00</td>\n",
       "      <td>1/1/2014</td>\n",
       "      <td>12/31/2015</td>\n",
       "      <td>BASESAL_FR</td>\n",
       "      <td>MON</td>\n",
       "      <td>6/5/1978</td>\n",
       "      <td>1/30/2010</td>\n",
       "      <td>4/12/2017</td>\n",
       "      <td>NaN</td>\n",
       "      <td>0.88</td>\n",
       "    </tr>\n",
       "    <tr>\n",
       "      <th>4</th>\n",
       "      <td>Trombley</td>\n",
       "      <td>Francois</td>\n",
       "      <td>Active User</td>\n",
       "      <td>ftrombley</td>\n",
       "      <td>1</td>\n",
       "      <td>EUR</td>\n",
       "      <td>6500.00</td>\n",
       "      <td>1/30/2010</td>\n",
       "      <td>12/31/2013</td>\n",
       "      <td>BASESAL_FR</td>\n",
       "      <td>MON</td>\n",
       "      <td>6/5/1978</td>\n",
       "      <td>1/30/2010</td>\n",
       "      <td>4/12/2017</td>\n",
       "      <td>NaN</td>\n",
       "      <td>1.00</td>\n",
       "    </tr>\n",
       "  </tbody>\n",
       "</table>\n",
       "</div>"
      ],
      "text/plain": [
       "   lastName firstName       status   username user-id currency-code  \\\n",
       "0  Trombley  Francois  Active User  ftrombley       1           EUR   \n",
       "1  Trombley  Francois  Active User  ftrombley       1           EUR   \n",
       "2  Trombley  Francois  Active User  ftrombley       1           EUR   \n",
       "3  Trombley  Francois  Active User  ftrombley       1           EUR   \n",
       "4  Trombley  Francois  Active User  ftrombley       1           EUR   \n",
       "\n",
       "   paycompvalue start-date   data-date pay-component frequency date-of-birth  \\\n",
       "0       6500.00  1/30/2010  12/31/2013    BASESAL_FR       MON      6/5/1978   \n",
       "1       6763.26   1/1/2017  12/31/9999    BASESAL_FR       MON      6/5/1978   \n",
       "2       6696.30   1/1/2016  12/31/2016    BASESAL_FR       MON      6/5/1978   \n",
       "3       6630.00   1/1/2014  12/31/2015    BASESAL_FR       MON      6/5/1978   \n",
       "4       6500.00  1/30/2010  12/31/2013    BASESAL_FR       MON      6/5/1978   \n",
       "\n",
       "   hire-date end-date.1 termination-date   fte  \n",
       "0  1/30/2010  4/12/2017              NaN  0.88  \n",
       "1  1/30/2010  4/12/2017              NaN  0.88  \n",
       "2  1/30/2010  4/12/2017              NaN  0.88  \n",
       "3  1/30/2010  4/12/2017              NaN  0.88  \n",
       "4  1/30/2010  4/12/2017              NaN  1.00  "
      ]
     },
     "execution_count": 4,
     "metadata": {},
     "output_type": "execute_result"
    }
   ],
   "source": [
    "# rename and delete columns\n",
    "df = df.rename(columns={\"start-date.1\":\"hire-date\", \"end-date.2\":\"termination-date\", \"end-date\":\"data-date\"})\n",
    "df.drop(['start-date', 'pay-component', 'end-date.1'], axis=1) # TODO: end-date.1 is not getting deleted\n",
    "df.head()"
   ]
  },
  {
   "cell_type": "code",
   "execution_count": 5,
   "metadata": {},
   "outputs": [
    {
     "name": "stdout",
     "output_type": "stream",
     "text": [
      "Shape of dataframe is: (2839, 16)\n"
     ]
    }
   ],
   "source": [
    "#drop dublicate if rows are identical\n",
    "df.drop_duplicates( keep = 'first', inplace = True)\n",
    "print(\"Shape of dataframe is: {}\".format(df.shape))"
   ]
  },
  {
   "cell_type": "code",
   "execution_count": 6,
   "metadata": {},
   "outputs": [
    {
     "name": "stdout",
     "output_type": "stream",
     "text": [
      "Shape of dataframe is: (2805, 16)\n"
     ]
    }
   ],
   "source": [
    "#FTE should be lower equal 1\n",
    "df.drop(df[df.fte > 1].index, inplace=True)\n",
    "print(\"Shape of dataframe is: {}\".format(df.shape))"
   ]
  },
  {
   "cell_type": "code",
   "execution_count": 7,
   "metadata": {},
   "outputs": [],
   "source": [
    "# calculate daily rate\n",
    "#TODO\n",
    "# simplification one year has 12 months every month 4 weeks every week 5 working days\n",
    "#if df['frequency'] = \"MON\":\n",
    "    # 4 weeks with 5 working days for one FTE\n",
    "    #df['daily-rate'] = ( df['paycompvalue'] / (4 * 5) ) * df['fte']\n",
    "    # usw....\n",
    "    \n",
    "#print(\"Shape of dataframe is: {}\".format(df.shape))"
   ]
  },
  {
   "cell_type": "code",
   "execution_count": 8,
   "metadata": {},
   "outputs": [
    {
     "name": "stdout",
     "output_type": "stream",
     "text": [
      "Shape of dataframe is: (2306, 16)\n"
     ]
    }
   ],
   "source": [
    "# delete combinations: \"inactive user“ + „termination-date = NaN”\n",
    "df.drop(df[(df.status == \"Inactive User\") & (pd.isnull(df[\"termination-date\"]))].index, inplace=True)\n",
    "print(\"Shape of dataframe is: {}\".format(df.shape))"
   ]
  },
  {
   "cell_type": "code",
   "execution_count": 9,
   "metadata": {},
   "outputs": [
    {
     "name": "stdout",
     "output_type": "stream",
     "text": [
      "Shape of dataframe is: (2304, 16)\n"
     ]
    }
   ],
   "source": [
    "# delete status = x\n",
    "df.drop(df[df.status == \"x\"].index, inplace=True)\n",
    "print(\"Shape of dataframe is: {}\".format(df.shape))"
   ]
  },
  {
   "cell_type": "code",
   "execution_count": 10,
   "metadata": {},
   "outputs": [
    {
     "name": "stdout",
     "output_type": "stream",
     "text": [
      "Shape of dataframe is: (2202, 16)\n"
     ]
    }
   ],
   "source": [
    "# delete data date = NaN\n",
    "df.drop(df[pd.isnull(df[\"data-date\"])].index, inplace=True)\n",
    "print(\"Shape of dataframe is: {}\".format(df.shape))"
   ]
  },
  {
   "cell_type": "code",
   "execution_count": 11,
   "metadata": {},
   "outputs": [
    {
     "name": "stderr",
     "output_type": "stream",
     "text": [
      "C:\\Users\\Rybak\\.conda\\envs\\HRMachineLearning\\lib\\site-packages\\ipykernel_launcher.py:6: SettingWithCopyWarning: \n",
      "A value is trying to be set on a copy of a slice from a DataFrame\n",
      "\n",
      "See the caveats in the documentation: https://pandas.pydata.org/pandas-docs/stable/user_guide/indexing.html#returning-a-view-versus-a-copy\n",
      "  \n"
     ]
    },
    {
     "name": "stdout",
     "output_type": "stream",
     "text": [
      "Shape of dataframe is: (2202, 17)\n"
     ]
    }
   ],
   "source": [
    "# overwrite data-date with other date format for sorting\n",
    "table = df[\"data-date\"].str.split(pat = \"/\")\n",
    "df[\"test\"]=df[\"data-date\"]\n",
    "for i in df[\"data-date\"].index:\n",
    "    s = pd.Series([table[i][2], table[i][1], table[i][0]])\n",
    "    df[\"data-date\"][i] = s.str.cat(sep='.')\n",
    "print(\"Shape of dataframe is: {}\".format(df.shape))"
   ]
  },
  {
   "cell_type": "code",
   "execution_count": 12,
   "metadata": {},
   "outputs": [
    {
     "name": "stdout",
     "output_type": "stream",
     "text": [
      "Shape of dataframe is: (729, 17)\n"
     ]
    }
   ],
   "source": [
    "#take newest data.date and delete the rest\n",
    "df.sort_values(by=['user-id', 'data-date'], ascending = [1, 0], inplace = True)\n",
    "df.drop_duplicates(subset =[\"user-id\"],  keep = 'first', inplace = True)\n",
    "print(\"Shape of dataframe is: {}\".format(df.shape))"
   ]
  },
  {
   "cell_type": "markdown",
   "metadata": {},
   "source": [
    "# Output"
   ]
  },
  {
   "cell_type": "code",
   "execution_count": 210,
   "metadata": {},
   "outputs": [],
   "source": [
    "#Save data to XLSX\n",
    "df.to_excel('Data/output.xlsx', )"
   ]
  },
  {
   "cell_type": "code",
   "execution_count": null,
   "metadata": {},
   "outputs": [],
   "source": []
  },
  {
   "cell_type": "code",
   "execution_count": null,
   "metadata": {},
   "outputs": [],
   "source": []
  }
 ],
 "metadata": {
  "kernelspec": {
   "display_name": "Python 3",
   "language": "python",
   "name": "python3"
  },
  "language_info": {
   "codemirror_mode": {
    "name": "ipython",
    "version": 3
   },
   "file_extension": ".py",
   "mimetype": "text/x-python",
   "name": "python",
   "nbconvert_exporter": "python",
   "pygments_lexer": "ipython3",
   "version": "3.6.10"
  }
 },
 "nbformat": 4,
 "nbformat_minor": 4
}
